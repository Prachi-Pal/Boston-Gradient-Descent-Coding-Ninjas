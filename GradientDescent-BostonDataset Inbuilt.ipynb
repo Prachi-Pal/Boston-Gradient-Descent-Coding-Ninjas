{
 "cells": [
  {
   "cell_type": "code",
   "execution_count": 5,
   "metadata": {},
   "outputs": [],
   "source": [
    "import numpy as np\n",
    "import sklearn.model_selection as ms\n",
    "from sklearn.ensemble import GradientBoostingRegressor as GBR"
   ]
  },
  {
   "cell_type": "code",
   "execution_count": 6,
   "metadata": {},
   "outputs": [],
   "source": [
    "train = np.loadtxt(\"0000000000002417_training_boston_x_y_train.csv\", delimiter =\",\")\n",
    "x_train = train[:,:-1]\n",
    "y_train = train[:, -1]\n",
    "x_test = np.loadtxt(\"0000000000002417_test_boston_x_test.csv\", delimiter = \",\")"
   ]
  },
  {
   "cell_type": "code",
   "execution_count": 10,
   "metadata": {},
   "outputs": [],
   "source": [
    "algo = GBR()\n",
    "algo.fit(x_train, y_train)\n",
    "y_predict = algo.predict(x_test)\n",
    "np.savetxt(\"y_predict.csv\", y_predict,delimiter=\",\",fmt='%.5f')\n"
   ]
  },
  {
   "cell_type": "code",
   "execution_count": null,
   "metadata": {},
   "outputs": [],
   "source": []
  },
  {
   "cell_type": "code",
   "execution_count": null,
   "metadata": {},
   "outputs": [],
   "source": []
  }
 ],
 "metadata": {
  "kernelspec": {
   "display_name": "Python 3",
   "language": "python",
   "name": "python3"
  },
  "language_info": {
   "codemirror_mode": {
    "name": "ipython",
    "version": 3
   },
   "file_extension": ".py",
   "mimetype": "text/x-python",
   "name": "python",
   "nbconvert_exporter": "python",
   "pygments_lexer": "ipython3",
   "version": "3.8.8"
  }
 },
 "nbformat": 4,
 "nbformat_minor": 4
}
